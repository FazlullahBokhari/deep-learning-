{
 "cells": [
  {
   "cell_type": "markdown",
   "metadata": {
    "id": "qFdPvlXBOdUN"
   },
   "source": [
    "# Introduction to the Keras Tuner"
   ]
  },
  {
   "cell_type": "markdown",
   "metadata": {
    "id": "xHxb-dlhMIzW"
   },
   "source": [
    "## Overview\n",
    "\n",
    "The Keras Tuner is a library that helps you pick the optimal set of hyperparameters for your TensorFlow program. The process of selecting the right set of hyperparameters for your machine learning (ML) application is called *hyperparameter tuning* or *hypertuning*.\n",
    "\n",
    "Hyperparameters are the variables that govern the training process and the topology of an ML model. These variables remain constant over the training process and directly impact the performance of your ML program. Hyperparameters are of two types:\n",
    "1. **Model hyperparameters** which influence model selection such as the number and width of hidden layers\n",
    "2. **Algorithm hyperparameters** which influence the speed and quality of the learning algorithm such as the learning rate for Stochastic Gradient Descent (SGD) and the number of nearest neighbors for a k Nearest Neighbors (KNN) classifier\n",
    "\n",
    "In this tutorial, you will use the Keras Tuner to perform hypertuning for an image classification application."
   ]
  },
  {
   "cell_type": "markdown",
   "metadata": {
    "id": "MUXex9ctTuDB"
   },
   "source": [
    "## Setup"
   ]
  },
  {
   "cell_type": "code",
   "execution_count": 1,
   "metadata": {
    "execution": {
     "iopub.execute_input": "2022-05-19T23:43:13.727010Z",
     "iopub.status.busy": "2022-05-19T23:43:13.726664Z",
     "iopub.status.idle": "2022-05-19T23:43:15.927691Z",
     "shell.execute_reply": "2022-05-19T23:43:15.926574Z"
    },
    "id": "IqR2PQG4ZaZ0"
   },
   "outputs": [],
   "source": [
    "import tensorflow as tf\n",
    "from tensorflow import keras"
   ]
  },
  {
   "cell_type": "markdown",
   "metadata": {
    "id": "g83Lwsy-Aq2_"
   },
   "source": [
    "Install and import the Keras Tuner."
   ]
  },
  {
   "cell_type": "code",
   "execution_count": 2,
   "metadata": {
    "execution": {
     "iopub.execute_input": "2022-05-19T23:43:15.933191Z",
     "iopub.status.busy": "2022-05-19T23:43:15.932248Z",
     "iopub.status.idle": "2022-05-19T23:43:18.099537Z",
     "shell.execute_reply": "2022-05-19T23:43:18.098178Z"
    },
    "id": "hpMLpbt9jcO6"
   },
   "outputs": [],
   "source": [
    "!pip install -q -U keras-tuner"
   ]
  },
  {
   "cell_type": "code",
   "execution_count": 3,
   "metadata": {
    "execution": {
     "iopub.execute_input": "2022-05-19T23:43:18.104161Z",
     "iopub.status.busy": "2022-05-19T23:43:18.103843Z",
     "iopub.status.idle": "2022-05-19T23:43:18.392671Z",
     "shell.execute_reply": "2022-05-19T23:43:18.391753Z"
    },
    "id": "_leAIdFKAxAD"
   },
   "outputs": [],
   "source": [
    "import keras_tuner as kt"
   ]
  },
  {
   "cell_type": "markdown",
   "metadata": {
    "id": "ReV_UXOgCZvx"
   },
   "source": [
    "## Download and prepare the dataset\n",
    "\n",
    "In this tutorial, you will use the Keras Tuner to find the best hyperparameters for a machine learning model that classifies images of clothing from the [Fashion MNIST dataset](https://github.com/zalandoresearch/fashion-mnist)."
   ]
  },
  {
   "cell_type": "markdown",
   "metadata": {
    "id": "HljH_ENLEdHa"
   },
   "source": [
    "Load the data."
   ]
  },
  {
   "cell_type": "code",
   "execution_count": 4,
   "metadata": {
    "execution": {
     "iopub.execute_input": "2022-05-19T23:43:18.397296Z",
     "iopub.status.busy": "2022-05-19T23:43:18.397002Z",
     "iopub.status.idle": "2022-05-19T23:43:18.832013Z",
     "shell.execute_reply": "2022-05-19T23:43:18.830913Z"
    },
    "id": "OHlHs9Wj_PUM"
   },
   "outputs": [
    {
     "name": "stdout",
     "output_type": "stream",
     "text": [
      "Downloading data from https://storage.googleapis.com/tensorflow/tf-keras-datasets/train-labels-idx1-ubyte.gz\n",
      "32768/29515 [=================================] - 0s 1us/step\n",
      "40960/29515 [=========================================] - 0s 0us/step\n",
      "Downloading data from https://storage.googleapis.com/tensorflow/tf-keras-datasets/train-images-idx3-ubyte.gz\n",
      "26427392/26421880 [==============================] - 8s 0us/step\n",
      "26435584/26421880 [==============================] - 8s 0us/step\n",
      "Downloading data from https://storage.googleapis.com/tensorflow/tf-keras-datasets/t10k-labels-idx1-ubyte.gz\n",
      "16384/5148 [===============================================================================================] - 0s 0s/step\n",
      "Downloading data from https://storage.googleapis.com/tensorflow/tf-keras-datasets/t10k-images-idx3-ubyte.gz\n",
      "4423680/4422102 [==============================] - 1s 0us/step\n",
      "4431872/4422102 [==============================] - 1s 0us/step\n"
     ]
    }
   ],
   "source": [
    "(img_train, label_train), (img_test, label_test) = keras.datasets.fashion_mnist.load_data()"
   ]
  },
  {
   "cell_type": "code",
   "execution_count": 5,
   "metadata": {
    "execution": {
     "iopub.execute_input": "2022-05-19T23:43:18.837182Z",
     "iopub.status.busy": "2022-05-19T23:43:18.836901Z",
     "iopub.status.idle": "2022-05-19T23:43:18.943264Z",
     "shell.execute_reply": "2022-05-19T23:43:18.942107Z"
    },
    "id": "bLVhXs3xrUD0"
   },
   "outputs": [],
   "source": [
    "# Normalize pixel values between 0 and 1\n",
    "img_train = img_train.astype('float32') / 255.0\n",
    "img_test = img_test.astype('float32') / 255.0"
   ]
  },
  {
   "cell_type": "code",
   "execution_count": 8,
   "metadata": {},
   "outputs": [
    {
     "data": {
      "text/plain": [
       "array([[[0., 0., 0., ..., 0., 0., 0.],\n",
       "        [0., 0., 0., ..., 0., 0., 0.],\n",
       "        [0., 0., 0., ..., 0., 0., 0.],\n",
       "        ...,\n",
       "        [0., 0., 0., ..., 0., 0., 0.],\n",
       "        [0., 0., 0., ..., 0., 0., 0.],\n",
       "        [0., 0., 0., ..., 0., 0., 0.]],\n",
       "\n",
       "       [[0., 0., 0., ..., 0., 0., 0.],\n",
       "        [0., 0., 0., ..., 0., 0., 0.],\n",
       "        [0., 0., 0., ..., 0., 0., 0.],\n",
       "        ...,\n",
       "        [0., 0., 0., ..., 0., 0., 0.],\n",
       "        [0., 0., 0., ..., 0., 0., 0.],\n",
       "        [0., 0., 0., ..., 0., 0., 0.]],\n",
       "\n",
       "       [[0., 0., 0., ..., 0., 0., 0.],\n",
       "        [0., 0., 0., ..., 0., 0., 0.],\n",
       "        [0., 0., 0., ..., 0., 0., 0.],\n",
       "        ...,\n",
       "        [0., 0., 0., ..., 0., 0., 0.],\n",
       "        [0., 0., 0., ..., 0., 0., 0.],\n",
       "        [0., 0., 0., ..., 0., 0., 0.]],\n",
       "\n",
       "       ...,\n",
       "\n",
       "       [[0., 0., 0., ..., 0., 0., 0.],\n",
       "        [0., 0., 0., ..., 0., 0., 0.],\n",
       "        [0., 0., 0., ..., 0., 0., 0.],\n",
       "        ...,\n",
       "        [0., 0., 0., ..., 0., 0., 0.],\n",
       "        [0., 0., 0., ..., 0., 0., 0.],\n",
       "        [0., 0., 0., ..., 0., 0., 0.]],\n",
       "\n",
       "       [[0., 0., 0., ..., 0., 0., 0.],\n",
       "        [0., 0., 0., ..., 0., 0., 0.],\n",
       "        [0., 0., 0., ..., 0., 0., 0.],\n",
       "        ...,\n",
       "        [0., 0., 0., ..., 0., 0., 0.],\n",
       "        [0., 0., 0., ..., 0., 0., 0.],\n",
       "        [0., 0., 0., ..., 0., 0., 0.]],\n",
       "\n",
       "       [[0., 0., 0., ..., 0., 0., 0.],\n",
       "        [0., 0., 0., ..., 0., 0., 0.],\n",
       "        [0., 0., 0., ..., 0., 0., 0.],\n",
       "        ...,\n",
       "        [0., 0., 0., ..., 0., 0., 0.],\n",
       "        [0., 0., 0., ..., 0., 0., 0.],\n",
       "        [0., 0., 0., ..., 0., 0., 0.]]], dtype=float32)"
      ]
     },
     "execution_count": 8,
     "metadata": {},
     "output_type": "execute_result"
    }
   ],
   "source": [
    "img_train"
   ]
  },
  {
   "cell_type": "code",
   "execution_count": 9,
   "metadata": {},
   "outputs": [
    {
     "data": {
      "text/plain": [
       "array([9, 0, 0, ..., 3, 0, 5], dtype=uint8)"
      ]
     },
     "execution_count": 9,
     "metadata": {},
     "output_type": "execute_result"
    }
   ],
   "source": [
    "label_train"
   ]
  },
  {
   "cell_type": "code",
   "execution_count": 11,
   "metadata": {},
   "outputs": [
    {
     "data": {
      "text/plain": [
       "(28, 28)"
      ]
     },
     "execution_count": 11,
     "metadata": {},
     "output_type": "execute_result"
    }
   ],
   "source": [
    "img_train[0].shape"
   ]
  },
  {
   "cell_type": "code",
   "execution_count": 12,
   "metadata": {},
   "outputs": [
    {
     "data": {
      "image/png": "[encoded data removed]",
      "text/plain": [
       "<Figure size 640x480 with 1 Axes>"
      ]
     },
     "metadata": {},
     "output_type": "display_data"
    }
   ],
   "source": [
    "import matplotlib.pyplot as plt \n",
    "plt.imshow(img_train[0], cmap='binary')\n",
    "plt.axis('off')\n",
    "plt.show()"
   ]
  },
  {
   "cell_type": "markdown",
   "metadata": {
    "id": "K5YEL2H2Ax3e"
   },
   "source": [
    "## Define the model\n",
    "\n",
    "When you build a model for hypertuning, you also define the hyperparameter search space in addition to the model architecture. The model you set up for hypertuning is called a *hypermodel*.\n",
    "\n",
    "You can define a hypermodel through two approaches:\n",
    "\n",
    "* By using a model builder function\n",
    "* By subclassing the `HyperModel` class of the Keras Tuner API\n",
    "\n",
    "You can also use two pre-defined [HyperModel](https://keras.io/api/keras_tuner/hypermodels/) classes - [HyperXception](https://keras.io/api/keras_tuner/hypermodels/hyper_xception/) and [HyperResNet](https://keras.io/api/keras_tuner/hypermodels/hyper_resnet/) for computer vision applications.\n",
    "\n",
    "In this tutorial, you use a model builder function to define the image classification model. The model builder function returns a compiled model and uses hyperparameters you define inline to hypertune the model."
   ]
  },
  {
   "cell_type": "code",
   "execution_count": 6,
   "metadata": {
    "execution": {
     "iopub.execute_input": "2022-05-19T23:43:18.948337Z",
     "iopub.status.busy": "2022-05-19T23:43:18.947953Z",
     "iopub.status.idle": "2022-05-19T23:43:18.955178Z",
     "shell.execute_reply": "2022-05-19T23:43:18.954193Z"
    },
    "id": "ZQKodC-jtsva"
   },
   "outputs": [],
   "source": [
    "def model_builder(hp):\n",
    "  model = keras.Sequential()\n",
    "  model.add(keras.layers.Flatten(input_shape=(28, 28)))\n",
    "\n",
    "  # Tune the number of units in the first Dense layer\n",
    "  # Choose an optimal value between 32-512\n",
    "  hp_units = hp.Int('units', min_value=32, max_value=512, step=32)\n",
    "  model.add(keras.layers.Dense(units=hp_units, activation='relu'))\n",
    "  model.add(keras.layers.Dense(10))\n",
    "\n",
    "  # Tune the learning rate for the optimizer\n",
    "  # Choose an optimal value from 0.01, 0.001, or 0.0001\n",
    "  hp_learning_rate = hp.Choice('learning_rate', values=[1e-2, 1e-3, 1e-4])\n",
    "\n",
    "  model.compile(optimizer=keras.optimizers.Adam(learning_rate=hp_learning_rate),\n",
    "                loss=keras.losses.SparseCategoricalCrossentropy(from_logits=True),\n",
    "                metrics=['accuracy'])\n",
    "\n",
    "  return model"
   ]
  },
  {
   "cell_type": "markdown",
   "metadata": {
    "id": "0J1VYw4q3x0b"
   },
   "source": [
    "## Instantiate the tuner and perform hypertuning\n",
    "\n",
    "Instantiate the tuner to perform the hypertuning. The Keras Tuner has four tuners available - `RandomSearch`, `Hyperband`, `BayesianOptimization`, and `Sklearn`. In this tutorial, you use the [Hyperband](https://arxiv.org/pdf/1603.06560.pdf) tuner.\n",
    "\n",
    "To instantiate the Hyperband tuner, you must specify the hypermodel, the `objective` to optimize and the maximum number of epochs to train (`max_epochs`)."
   ]
  },
  {
   "cell_type": "code",
   "execution_count": 7,
   "metadata": {
    "execution": {
     "iopub.execute_input": "2022-05-19T23:43:18.959292Z",
     "iopub.status.busy": "2022-05-19T23:43:18.959006Z",
     "iopub.status.idle": "2022-05-19T23:43:22.033121Z",
     "shell.execute_reply": "2022-05-19T23:43:22.032055Z"
    },
    "id": "oichQFly6Y46"
   },
   "outputs": [],
   "source": [
    "tuner = kt.Hyperband(model_builder,\n",
    "                     objective='val_accuracy',\n",
    "                     max_epochs=10,\n",
    "                     factor=3,\n",
    "                     directory='my_dir',\n",
    "                     project_name='intro_to_kt')"
   ]
  },
  {
   "cell_type": "markdown",
   "metadata": {
    "id": "VaIhhdKf9VtI"
   },
   "source": [
    "The Hyperband tuning algorithm uses adaptive resource allocation and early-stopping to quickly converge on a high-performing model. This is done using a sports championship style bracket. The algorithm trains a large number of models for a few epochs and carries forward only the top-performing half of models to the next round. Hyperband determines the number of models to train in a bracket by computing 1 + log<sub>`factor`</sub>(`max_epochs`) and rounding it up to the nearest integer."
   ]
  },
  {
   "cell_type": "markdown",
   "metadata": {
    "id": "cwhBdXx0Ekj8"
   },
   "source": [
    "Create a callback to stop training early after reaching a certain value for the validation loss."
   ]
  },
  {
   "cell_type": "code",
   "execution_count": 9,
   "metadata": {
    "execution": {
     "iopub.execute_input": "2022-05-19T23:43:22.038137Z",
     "iopub.status.busy": "2022-05-19T23:43:22.037849Z",
     "iopub.status.idle": "2022-05-19T23:43:22.042640Z",
     "shell.execute_reply": "2022-05-19T23:43:22.041681Z"
    },
    "id": "WT9IkS9NEjLc"
   },
   "outputs": [],
   "source": [
    "stop_early = tf.keras.callbacks.EarlyStopping(monitor='val_loss', patience=5)"
   ]
  },
  {
   "cell_type": "markdown",
   "metadata": {
    "id": "UKghEo15Tduy"
   },
   "source": [
    "Run the hyperparameter search. The arguments for the search method are the same as those used for `tf.keras.model.fit` in addition to the callback above."
   ]
  },
  {
   "cell_type": "code",
   "execution_count": 10,
   "metadata": {
    "execution": {
     "iopub.execute_input": "2022-05-19T23:43:22.046741Z",
     "iopub.status.busy": "2022-05-19T23:43:22.046142Z",
     "iopub.status.idle": "2022-05-19T23:52:01.508476Z",
     "shell.execute_reply": "2022-05-19T23:52:01.507512Z"
    },
    "id": "dSBQcTHF9cKt"
   },
   "outputs": [
    {
     "name": "stdout",
     "output_type": "stream",
     "text": [
      "Trial 30 Complete [00h 00m 41s]\n",
      "val_accuracy: 0.8865000009536743\n",
      "\n",
      "Best val_accuracy So Far: 0.8865000009536743\n",
      "Total elapsed time: 00h 08m 39s\n",
      "INFO:tensorflow:Oracle triggered exit\n",
      "\n",
      "The hyperparameter search is complete. The optimal number of units in the first densely-connected\n",
      "layer is 416 and the optimal learning rate for the optimizer\n",
      "is 0.001.\n",
      "\n"
     ]
    }
   ],
   "source": [
    "tuner.search(img_train, label_train, epochs=50, validation_split=0.2, callbacks=[stop_early])\n",
    "\n",
    "# Get the optimal hyperparameters\n",
    "best_hps=tuner.get_best_hyperparameters(num_trials=1)[0]\n",
    "\n",
    "print(f\"\"\"\n",
    "The hyperparameter search is complete. The optimal number of units in the first densely-connected\n",
    "layer is {best_hps.get('units')} and the optimal learning rate for the optimizer\n",
    "is {best_hps.get('learning_rate')}.\n",
    "\"\"\")"
   ]
  },
  {
   "cell_type": "markdown",
   "metadata": {
    "id": "Lak_ylf88xBv"
   },
   "source": [
    "## Train the model\n",
    "\n",
    "Find the optimal number of epochs to train the model with the hyperparameters obtained from the search."
   ]
  },
  {
   "cell_type": "code",
   "execution_count": 11,
   "metadata": {
    "execution": {
     "iopub.execute_input": "2022-05-19T23:52:01.513243Z",
     "iopub.status.busy": "2022-05-19T23:52:01.512451Z",
     "iopub.status.idle": "2022-05-19T23:55:16.289138Z",
     "shell.execute_reply": "2022-05-19T23:55:16.288100Z"
    },
    "id": "McO82AXOuxXh"
   },
   "outputs": [
    {
     "name": "stdout",
     "output_type": "stream",
     "text": [
      "Epoch 1/50\n",
      "1500/1500 [==============================] - 4s 3ms/step - loss: 0.4962 - accuracy: 0.8246 - val_loss: 0.4271 - val_accuracy: 0.8409\n",
      "Epoch 2/50\n",
      "1500/1500 [==============================] - 4s 3ms/step - loss: 0.3665 - accuracy: 0.8673 - val_loss: 0.3703 - val_accuracy: 0.8627\n",
      "Epoch 3/50\n",
      "1500/1500 [==============================] - 4s 3ms/step - loss: 0.3290 - accuracy: 0.8791 - val_loss: 0.3278 - val_accuracy: 0.8832\n",
      "Epoch 4/50\n",
      "1500/1500 [==============================] - 4s 3ms/step - loss: 0.3040 - accuracy: 0.8875 - val_loss: 0.3544 - val_accuracy: 0.8710\n",
      "Epoch 5/50\n",
      "1500/1500 [==============================] - 4s 3ms/step - loss: 0.2843 - accuracy: 0.8938 - val_loss: 0.3508 - val_accuracy: 0.8742\n",
      "Epoch 6/50\n",
      "1500/1500 [==============================] - 4s 3ms/step - loss: 0.2724 - accuracy: 0.8986 - val_loss: 0.3314 - val_accuracy: 0.8813\n",
      "Epoch 7/50\n",
      "1500/1500 [==============================] - 4s 3ms/step - loss: 0.2575 - accuracy: 0.9042 - val_loss: 0.3174 - val_accuracy: 0.8871\n",
      "Epoch 8/50\n",
      "1500/1500 [==============================] - 4s 3ms/step - loss: 0.2466 - accuracy: 0.9075 - val_loss: 0.3292 - val_accuracy: 0.8833\n",
      "Epoch 9/50\n",
      "1500/1500 [==============================] - 4s 3ms/step - loss: 0.2345 - accuracy: 0.9124 - val_loss: 0.3428 - val_accuracy: 0.8864\n",
      "Epoch 10/50\n",
      "1500/1500 [==============================] - 4s 3ms/step - loss: 0.2241 - accuracy: 0.9159 - val_loss: 0.3126 - val_accuracy: 0.8918\n",
      "Epoch 11/50\n",
      "1500/1500 [==============================] - 4s 3ms/step - loss: 0.2149 - accuracy: 0.9186 - val_loss: 0.3332 - val_accuracy: 0.8851\n",
      "Epoch 12/50\n",
      "1500/1500 [==============================] - 4s 3ms/step - loss: 0.2107 - accuracy: 0.9199 - val_loss: 0.3087 - val_accuracy: 0.8939\n",
      "Epoch 13/50\n",
      "1500/1500 [==============================] - 4s 3ms/step - loss: 0.2003 - accuracy: 0.9245 - val_loss: 0.3184 - val_accuracy: 0.8931\n",
      "Epoch 14/50\n",
      "1500/1500 [==============================] - 4s 3ms/step - loss: 0.1934 - accuracy: 0.9272 - val_loss: 0.3197 - val_accuracy: 0.8946\n",
      "Epoch 15/50\n",
      "1500/1500 [==============================] - 4s 3ms/step - loss: 0.1886 - accuracy: 0.9294 - val_loss: 0.3224 - val_accuracy: 0.8912\n",
      "Epoch 16/50\n",
      "1500/1500 [==============================] - 4s 3ms/step - loss: 0.1784 - accuracy: 0.9339 - val_loss: 0.3417 - val_accuracy: 0.8921\n",
      "Epoch 17/50\n",
      "1500/1500 [==============================] - 4s 3ms/step - loss: 0.1754 - accuracy: 0.9343 - val_loss: 0.3287 - val_accuracy: 0.8947\n",
      "Epoch 18/50\n",
      "1500/1500 [==============================] - 4s 3ms/step - loss: 0.1683 - accuracy: 0.9363 - val_loss: 0.3427 - val_accuracy: 0.8926\n",
      "Epoch 19/50\n",
      "1500/1500 [==============================] - 4s 3ms/step - loss: 0.1622 - accuracy: 0.9394 - val_loss: 0.3369 - val_accuracy: 0.8943\n",
      "Epoch 20/50\n",
      "1500/1500 [==============================] - 4s 3ms/step - loss: 0.1570 - accuracy: 0.9410 - val_loss: 0.3449 - val_accuracy: 0.8907\n",
      "Epoch 21/50\n",
      "1500/1500 [==============================] - 4s 3ms/step - loss: 0.1550 - accuracy: 0.9414 - val_loss: 0.3443 - val_accuracy: 0.8929\n",
      "Epoch 22/50\n",
      "1500/1500 [==============================] - 4s 3ms/step - loss: 0.1501 - accuracy: 0.9442 - val_loss: 0.3449 - val_accuracy: 0.8979\n",
      "Epoch 23/50\n",
      "1500/1500 [==============================] - 4s 3ms/step - loss: 0.1440 - accuracy: 0.9457 - val_loss: 0.3613 - val_accuracy: 0.8939\n",
      "Epoch 24/50\n",
      "1500/1500 [==============================] - 4s 3ms/step - loss: 0.1382 - accuracy: 0.9484 - val_loss: 0.3676 - val_accuracy: 0.8894\n",
      "Epoch 25/50\n",
      "1500/1500 [==============================] - 4s 3ms/step - loss: 0.1369 - accuracy: 0.9477 - val_loss: 0.3940 - val_accuracy: 0.8871\n",
      "Epoch 26/50\n",
      "1500/1500 [==============================] - 4s 3ms/step - loss: 0.1305 - accuracy: 0.9512 - val_loss: 0.3630 - val_accuracy: 0.8935\n",
      "Epoch 27/50\n",
      "1500/1500 [==============================] - 4s 3ms/step - loss: 0.1251 - accuracy: 0.9520 - val_loss: 0.4069 - val_accuracy: 0.8840\n",
      "Epoch 28/50\n",
      "1500/1500 [==============================] - 4s 3ms/step - loss: 0.1263 - accuracy: 0.9520 - val_loss: 0.3820 - val_accuracy: 0.8928\n",
      "Epoch 29/50\n",
      "1500/1500 [==============================] - 4s 3ms/step - loss: 0.1214 - accuracy: 0.9542 - val_loss: 0.3970 - val_accuracy: 0.8955\n",
      "Epoch 30/50\n",
      "1500/1500 [==============================] - 4s 3ms/step - loss: 0.1174 - accuracy: 0.9554 - val_loss: 0.3996 - val_accuracy: 0.8895\n",
      "Epoch 31/50\n",
      "1500/1500 [==============================] - 4s 3ms/step - loss: 0.1143 - accuracy: 0.9567 - val_loss: 0.4196 - val_accuracy: 0.8923\n",
      "Epoch 32/50\n",
      "1500/1500 [==============================] - 4s 3ms/step - loss: 0.1132 - accuracy: 0.9574 - val_loss: 0.4209 - val_accuracy: 0.8902\n",
      "Epoch 33/50\n",
      "1500/1500 [==============================] - 4s 3ms/step - loss: 0.1089 - accuracy: 0.9592 - val_loss: 0.4093 - val_accuracy: 0.8951\n",
      "Epoch 34/50\n",
      "1500/1500 [==============================] - 4s 3ms/step - loss: 0.1085 - accuracy: 0.9597 - val_loss: 0.4049 - val_accuracy: 0.8988\n",
      "Epoch 35/50\n",
      "1500/1500 [==============================] - 4s 3ms/step - loss: 0.1016 - accuracy: 0.9611 - val_loss: 0.4444 - val_accuracy: 0.8907\n",
      "Epoch 36/50\n",
      "1500/1500 [==============================] - 4s 3ms/step - loss: 0.1035 - accuracy: 0.9613 - val_loss: 0.4821 - val_accuracy: 0.8899\n",
      "Epoch 37/50\n",
      "1500/1500 [==============================] - 4s 3ms/step - loss: 0.1009 - accuracy: 0.9618 - val_loss: 0.4409 - val_accuracy: 0.8896\n",
      "Epoch 38/50\n",
      "1500/1500 [==============================] - 4s 3ms/step - loss: 0.0952 - accuracy: 0.9623 - val_loss: 0.4678 - val_accuracy: 0.8915\n",
      "Epoch 39/50\n",
      "1500/1500 [==============================] - 4s 3ms/step - loss: 0.0928 - accuracy: 0.9653 - val_loss: 0.4495 - val_accuracy: 0.8939\n",
      "Epoch 40/50\n",
      "1500/1500 [==============================] - 4s 3ms/step - loss: 0.0967 - accuracy: 0.9645 - val_loss: 0.4850 - val_accuracy: 0.8902\n",
      "Epoch 41/50\n",
      "1500/1500 [==============================] - 4s 3ms/step - loss: 0.0927 - accuracy: 0.9642 - val_loss: 0.4785 - val_accuracy: 0.8904\n",
      "Epoch 42/50\n",
      "1500/1500 [==============================] - 4s 3ms/step - loss: 0.0874 - accuracy: 0.9678 - val_loss: 0.4565 - val_accuracy: 0.8949\n",
      "Epoch 43/50\n",
      "1500/1500 [==============================] - 4s 3ms/step - loss: 0.0825 - accuracy: 0.9689 - val_loss: 0.5582 - val_accuracy: 0.8848\n",
      "Epoch 44/50\n",
      "1500/1500 [==============================] - 4s 3ms/step - loss: 0.0841 - accuracy: 0.9686 - val_loss: 0.5025 - val_accuracy: 0.8915\n",
      "Epoch 45/50\n",
      "1500/1500 [==============================] - 4s 3ms/step - loss: 0.0826 - accuracy: 0.9695 - val_loss: 0.5150 - val_accuracy: 0.8856\n",
      "Epoch 46/50\n",
      "1500/1500 [==============================] - 4s 3ms/step - loss: 0.0817 - accuracy: 0.9695 - val_loss: 0.5074 - val_accuracy: 0.8943\n",
      "Epoch 47/50\n",
      "1500/1500 [==============================] - 4s 3ms/step - loss: 0.0789 - accuracy: 0.9699 - val_loss: 0.5018 - val_accuracy: 0.8947\n",
      "Epoch 48/50\n",
      "1500/1500 [==============================] - 4s 3ms/step - loss: 0.0796 - accuracy: 0.9701 - val_loss: 0.5014 - val_accuracy: 0.8921\n",
      "Epoch 49/50\n",
      "1500/1500 [==============================] - 4s 3ms/step - loss: 0.0774 - accuracy: 0.9711 - val_loss: 0.4936 - val_accuracy: 0.8959\n",
      "Epoch 50/50\n",
      "1500/1500 [==============================] - 4s 3ms/step - loss: 0.0787 - accuracy: 0.9709 - val_loss: 0.5335 - val_accuracy: 0.8897\n",
      "Best epoch: 34\n"
     ]
    }
   ],
   "source": [
    "# Build the model with the optimal hyperparameters and train it on the data for 50 epochs\n",
    "model = tuner.hypermodel.build(best_hps)\n",
    "history = model.fit(img_train, label_train, epochs=50, validation_split=0.2)\n",
    "\n",
    "val_acc_per_epoch = history.history['val_accuracy']\n",
    "best_epoch = val_acc_per_epoch.index(max(val_acc_per_epoch)) + 1\n",
    "print('Best epoch: %d' % (best_epoch,))"
   ]
  },
  {
   "cell_type": "markdown",
   "metadata": {
    "id": "uOTSirSTI3Gp"
   },
   "source": [
    "Re-instantiate the hypermodel and train it with the optimal number of epochs from above."
   ]
  },
  {
   "cell_type": "code",
   "execution_count": 12,
   "metadata": {
    "execution": {
     "iopub.execute_input": "2022-05-19T23:55:16.293302Z",
     "iopub.status.busy": "2022-05-19T23:55:16.293023Z",
     "iopub.status.idle": "2022-05-19T23:57:28.687990Z",
     "shell.execute_reply": "2022-05-19T23:57:28.686996Z"
    },
    "id": "NoiPUEHmMhCe"
   },
   "outputs": [
    {
     "name": "stdout",
     "output_type": "stream",
     "text": [
      "Epoch 1/34\n",
      "1500/1500 [==============================] - 4s 3ms/step - loss: 0.4928 - accuracy: 0.8247 - val_loss: 0.4264 - val_accuracy: 0.8497\n",
      "Epoch 2/34\n",
      "1500/1500 [==============================] - 4s 3ms/step - loss: 0.3677 - accuracy: 0.8659 - val_loss: 0.3683 - val_accuracy: 0.8650\n",
      "Epoch 3/34\n",
      "1500/1500 [==============================] - 4s 3ms/step - loss: 0.3316 - accuracy: 0.8780 - val_loss: 0.3367 - val_accuracy: 0.8779\n",
      "Epoch 4/34\n",
      "1500/1500 [==============================] - 4s 3ms/step - loss: 0.3047 - accuracy: 0.8866 - val_loss: 0.3295 - val_accuracy: 0.8798\n",
      "Epoch 5/34\n",
      "1500/1500 [==============================] - 4s 3ms/step - loss: 0.2851 - accuracy: 0.8942 - val_loss: 0.3325 - val_accuracy: 0.8794\n",
      "Epoch 6/34\n",
      "1500/1500 [==============================] - 4s 3ms/step - loss: 0.2727 - accuracy: 0.8974 - val_loss: 0.3389 - val_accuracy: 0.8819\n",
      "Epoch 7/34\n",
      "1500/1500 [==============================] - 4s 3ms/step - loss: 0.2550 - accuracy: 0.9046 - val_loss: 0.3226 - val_accuracy: 0.8867\n",
      "Epoch 8/34\n",
      "1500/1500 [==============================] - 4s 3ms/step - loss: 0.2465 - accuracy: 0.9066 - val_loss: 0.3186 - val_accuracy: 0.8871\n",
      "Epoch 9/34\n",
      "1500/1500 [==============================] - 4s 3ms/step - loss: 0.2354 - accuracy: 0.9121 - val_loss: 0.3306 - val_accuracy: 0.8883\n",
      "Epoch 10/34\n",
      "1500/1500 [==============================] - 4s 3ms/step - loss: 0.2258 - accuracy: 0.9158 - val_loss: 0.3254 - val_accuracy: 0.8870\n",
      "Epoch 11/34\n",
      "1500/1500 [==============================] - 4s 3ms/step - loss: 0.2172 - accuracy: 0.9176 - val_loss: 0.3299 - val_accuracy: 0.8857\n",
      "Epoch 12/34\n",
      "1500/1500 [==============================] - 4s 3ms/step - loss: 0.2081 - accuracy: 0.9209 - val_loss: 0.3135 - val_accuracy: 0.8916\n",
      "Epoch 13/34\n",
      "1500/1500 [==============================] - 4s 3ms/step - loss: 0.2014 - accuracy: 0.9248 - val_loss: 0.3375 - val_accuracy: 0.8892\n",
      "Epoch 14/34\n",
      "1500/1500 [==============================] - 4s 3ms/step - loss: 0.1930 - accuracy: 0.9275 - val_loss: 0.3354 - val_accuracy: 0.8912\n",
      "Epoch 15/34\n",
      "1500/1500 [==============================] - 4s 3ms/step - loss: 0.1878 - accuracy: 0.9293 - val_loss: 0.3193 - val_accuracy: 0.8948\n",
      "Epoch 16/34\n",
      "1500/1500 [==============================] - 4s 3ms/step - loss: 0.1808 - accuracy: 0.9321 - val_loss: 0.3391 - val_accuracy: 0.8901\n",
      "Epoch 17/34\n",
      "1500/1500 [==============================] - 4s 3ms/step - loss: 0.1756 - accuracy: 0.9339 - val_loss: 0.3466 - val_accuracy: 0.8877\n",
      "Epoch 18/34\n",
      "1500/1500 [==============================] - 4s 3ms/step - loss: 0.1709 - accuracy: 0.9349 - val_loss: 0.3345 - val_accuracy: 0.8910\n",
      "Epoch 19/34\n",
      "1500/1500 [==============================] - 4s 3ms/step - loss: 0.1624 - accuracy: 0.9389 - val_loss: 0.3441 - val_accuracy: 0.8938\n",
      "Epoch 20/34\n",
      "1500/1500 [==============================] - 4s 3ms/step - loss: 0.1564 - accuracy: 0.9415 - val_loss: 0.3611 - val_accuracy: 0.8885\n",
      "Epoch 21/34\n",
      "1500/1500 [==============================] - 4s 3ms/step - loss: 0.1536 - accuracy: 0.9424 - val_loss: 0.3552 - val_accuracy: 0.8934\n",
      "Epoch 22/34\n",
      "1500/1500 [==============================] - 4s 3ms/step - loss: 0.1470 - accuracy: 0.9455 - val_loss: 0.3595 - val_accuracy: 0.8952\n",
      "Epoch 23/34\n",
      "1500/1500 [==============================] - 4s 3ms/step - loss: 0.1436 - accuracy: 0.9459 - val_loss: 0.3675 - val_accuracy: 0.8936\n",
      "Epoch 24/34\n",
      "1500/1500 [==============================] - 4s 3ms/step - loss: 0.1402 - accuracy: 0.9468 - val_loss: 0.3706 - val_accuracy: 0.8922\n",
      "Epoch 25/34\n",
      "1500/1500 [==============================] - 4s 3ms/step - loss: 0.1371 - accuracy: 0.9492 - val_loss: 0.3785 - val_accuracy: 0.8933\n",
      "Epoch 26/34\n",
      "1500/1500 [==============================] - 4s 3ms/step - loss: 0.1297 - accuracy: 0.9509 - val_loss: 0.3624 - val_accuracy: 0.8942\n",
      "Epoch 27/34\n",
      "1500/1500 [==============================] - 4s 3ms/step - loss: 0.1315 - accuracy: 0.9507 - val_loss: 0.3854 - val_accuracy: 0.8953\n",
      "Epoch 28/34\n",
      "1500/1500 [==============================] - 4s 3ms/step - loss: 0.1247 - accuracy: 0.9523 - val_loss: 0.3988 - val_accuracy: 0.8900\n",
      "Epoch 29/34\n",
      "1500/1500 [==============================] - 4s 3ms/step - loss: 0.1216 - accuracy: 0.9532 - val_loss: 0.4011 - val_accuracy: 0.8886\n",
      "Epoch 30/34\n",
      "1500/1500 [==============================] - 4s 3ms/step - loss: 0.1189 - accuracy: 0.9554 - val_loss: 0.3949 - val_accuracy: 0.8907\n",
      "Epoch 31/34\n",
      "1500/1500 [==============================] - 4s 3ms/step - loss: 0.1153 - accuracy: 0.9568 - val_loss: 0.3940 - val_accuracy: 0.8963\n",
      "Epoch 32/34\n",
      "1500/1500 [==============================] - 4s 3ms/step - loss: 0.1112 - accuracy: 0.9575 - val_loss: 0.3962 - val_accuracy: 0.8947\n",
      "Epoch 33/34\n",
      "1500/1500 [==============================] - 4s 3ms/step - loss: 0.1102 - accuracy: 0.9586 - val_loss: 0.4067 - val_accuracy: 0.8956\n",
      "Epoch 34/34\n",
      "1500/1500 [==============================] - 4s 3ms/step - loss: 0.1050 - accuracy: 0.9605 - val_loss: 0.4112 - val_accuracy: 0.8926\n"
     ]
    },
    {
     "data": {
      "text/plain": [
       "<keras.callbacks.History at 0x7fc6b60ce2d0>"
      ]
     },
     "execution_count": 12,
     "metadata": {},
     "output_type": "execute_result"
    }
   ],
   "source": [
    "hypermodel = tuner.hypermodel.build(best_hps)\n",
    "\n",
    "# Retrain the model\n",
    "hypermodel.fit(img_train, label_train, epochs=best_epoch, validation_split=0.2)"
   ]
  },
  {
   "cell_type": "markdown",
   "metadata": {
    "id": "MqU5ZVAaag2v"
   },
   "source": [
    "To finish this tutorial, evaluate the hypermodel on the test data."
   ]
  },
  {
   "cell_type": "code",
   "execution_count": 13,
   "metadata": {
    "execution": {
     "iopub.execute_input": "2022-05-19T23:57:28.692246Z",
     "iopub.status.busy": "2022-05-19T23:57:28.691953Z",
     "iopub.status.idle": "2022-05-19T23:57:29.633125Z",
     "shell.execute_reply": "2022-05-19T23:57:29.632178Z"
    },
    "id": "9E0BTp9Ealjb"
   },
   "outputs": [
    {
     "name": "stdout",
     "output_type": "stream",
     "text": [
      "313/313 [==============================] - 1s 2ms/step - loss: 0.4548 - accuracy: 0.8854\n",
      "[test loss, test accuracy]: [0.4547567367553711, 0.8853999972343445]\n"
     ]
    }
   ],
   "source": [
    "eval_result = hypermodel.evaluate(img_test, label_test)\n",
    "print(\"[test loss, test accuracy]:\", eval_result)"
   ]
  },
  {
   "cell_type": "markdown",
   "metadata": {
    "id": "EQRpPHZsz-eC"
   },
   "source": [
    "The `my_dir/intro_to_kt` directory contains detailed logs and checkpoints for every trial (model configuration) run during the hyperparameter search. If you re-run the hyperparameter search, the Keras Tuner uses the existing state from these logs to resume the search. To disable this behavior, pass an additional `overwrite=True` argument while instantiating the tuner."
   ]
  },
  {
   "cell_type": "markdown",
   "metadata": {
    "id": "sKwLOzKpFGAj"
   },
   "source": [
    "## Summary\n",
    "\n",
    "In this tutorial, you learned how to use the Keras Tuner to tune hyperparameters for a model. To learn more about the Keras Tuner, check out these additional resources:\n",
    "\n",
    "* [Keras Tuner on the TensorFlow blog](https://blog.tensorflow.org/2020/01/hyperparameter-tuning-with-keras-tuner.html)\n",
    "* [Keras Tuner website](https://keras-team.github.io/keras-tuner/)\n",
    "\n",
    "Also check out the [HParams Dashboard](https://www.tensorflow.org/tensorboard/hyperparameter_tuning_with_hparams) in TensorBoard to interactively tune your model hyperparameters."
   ]
  }
 ],
 "metadata": {
  "accelerator": "GPU",
  "colab": {
   "collapsed_sections": [
    "Tce3stUlHN0L"
   ],
   "name": "keras_tuner.ipynb",
   "toc_visible": true
  },
  "kernelspec": {
   "display_name": "Python 3 (ipykernel)",
   "language": "python",
   "name": "python3"
  },
  "language_info": {
   "codemirror_mode": {
    "name": "ipython",
    "version": 3
   },
   "file_extension": ".py",
   "mimetype": "text/x-python",
   "name": "python",
   "nbconvert_exporter": "python",
   "pygments_lexer": "ipython3",
   "version": "3.7.13"
  }
 },
 "nbformat": 4,
 "nbformat_minor": 1
}
