{
 "cells": [
  {
   "cell_type": "markdown",
   "metadata": {
    "id": "qFdPvlXBOdUN"
   },
   "source": [
    "# Introduction to the Keras Tuner"
   ]
  },
  {
   "cell_type": "markdown",
   "metadata": {
    "id": "xHxb-dlhMIzW"
   },
   "source": [
    "## Overview\n",
    "\n",
    "The Keras Tuner is a library that helps you pick the optimal set of hyperparameters for your TensorFlow program. The process of selecting the right set of hyperparameters for your machine learning (ML) application is called *hyperparameter tuning* or *hypertuning*.\n",
    "\n",
    "Hyperparameters are the variables that govern the training process and the topology of an ML model. These variables remain constant over the training process and directly impact the performance of your ML program. Hyperparameters are of two types:\n",
    "1. **Model hyperparameters** which influence model selection such as the number and width of hidden layers\n",
    "2. **Algorithm hyperparameters** which influence the speed and quality of the learning algorithm such as the learning rate for Stochastic Gradient Descent (SGD) and the number of nearest neighbors for a k Nearest Neighbors (KNN) classifier\n",
    "\n",
    "In this tutorial, you will use the Keras Tuner to perform hypertuning for an image classification application."
   ]
  },
  {
   "cell_type": "markdown",
   "metadata": {
    "id": "MUXex9ctTuDB"
   },
   "source": [
    "## Setup"
   ]
  },
  {
   "cell_type": "code",
   "execution_count": 1,
   "metadata": {
    "execution": {
     "iopub.execute_input": "2022-05-19T23:43:13.727010Z",
     "iopub.status.busy": "2022-05-19T23:43:13.726664Z",
     "iopub.status.idle": "2022-05-19T23:43:15.927691Z",
     "shell.execute_reply": "2022-05-19T23:43:15.926574Z"
    },
    "id": "IqR2PQG4ZaZ0"
   },
   "outputs": [],
   "source": [
    "import tensorflow as tf\n",
    "from tensorflow import keras"
   ]
  },
  {
   "cell_type": "markdown",
   "metadata": {
    "id": "g83Lwsy-Aq2_"
   },
   "source": [
    "Install and import the Keras Tuner."
   ]
  },
  {
   "cell_type": "code",
   "execution_count": 2,
   "metadata": {
    "execution": {
     "iopub.execute_input": "2022-05-19T23:43:15.933191Z",
     "iopub.status.busy": "2022-05-19T23:43:15.932248Z",
     "iopub.status.idle": "2022-05-19T23:43:18.099537Z",
     "shell.execute_reply": "2022-05-19T23:43:18.098178Z"
    },
    "id": "hpMLpbt9jcO6"
   },
   "outputs": [],
   "source": [
    "!pip install -q -U keras-tuner"
   ]
  },
  {
   "cell_type": "code",
   "execution_count": 3,
   "metadata": {
    "execution": {
     "iopub.execute_input": "2022-05-19T23:43:18.104161Z",
     "iopub.status.busy": "2022-05-19T23:43:18.103843Z",
     "iopub.status.idle": "2022-05-19T23:43:18.392671Z",
     "shell.execute_reply": "2022-05-19T23:43:18.391753Z"
    },
    "id": "_leAIdFKAxAD"
   },
   "outputs": [],
   "source": [
    "import keras_tuner as kt"
   ]
  },
  {
   "cell_type": "markdown",
   "metadata": {
    "id": "ReV_UXOgCZvx"
   },
   "source": [
    "## Download and prepare the dataset\n",
    "\n",
    "In this tutorial, you will use the Keras Tuner to find the best hyperparameters for a machine learning model that classifies images of clothing from the [Fashion MNIST dataset](https://github.com/zalandoresearch/fashion-mnist)."
   ]
  },
  {
   "cell_type": "markdown",
   "metadata": {
    "id": "HljH_ENLEdHa"
   },
   "source": [
    "Load the data."
   ]
  },
  {
   "cell_type": "code",
   "execution_count": 4,
   "metadata": {
    "execution": {
     "iopub.execute_input": "2022-05-19T23:43:18.397296Z",
     "iopub.status.busy": "2022-05-19T23:43:18.397002Z",
     "iopub.status.idle": "2022-05-19T23:43:18.832013Z",
     "shell.execute_reply": "2022-05-19T23:43:18.830913Z"
    },
    "id": "OHlHs9Wj_PUM"
   },
   "outputs": [],
   "source": [
    "(img_train, label_train), (img_test, label_test) = keras.datasets.fashion_mnist.load_data()"
   ]
  },
  {
   "cell_type": "code",
   "execution_count": 5,
   "metadata": {
    "execution": {
     "iopub.execute_input": "2022-05-19T23:43:18.837182Z",
     "iopub.status.busy": "2022-05-19T23:43:18.836901Z",
     "iopub.status.idle": "2022-05-19T23:43:18.943264Z",
     "shell.execute_reply": "2022-05-19T23:43:18.942107Z"
    },
    "id": "bLVhXs3xrUD0"
   },
   "outputs": [],
   "source": [
    "# Normalize pixel values between 0 and 1\n",
    "img_train = img_train.astype('float32') / 255.0\n",
    "img_test = img_test.astype('float32') / 255.0"
   ]
  },
  {
   "cell_type": "code",
   "execution_count": 6,
   "metadata": {},
   "outputs": [
    {
     "data": {
      "text/plain": [
       "array([[[0., 0., 0., ..., 0., 0., 0.],\n",
       "        [0., 0., 0., ..., 0., 0., 0.],\n",
       "        [0., 0., 0., ..., 0., 0., 0.],\n",
       "        ...,\n",
       "        [0., 0., 0., ..., 0., 0., 0.],\n",
       "        [0., 0., 0., ..., 0., 0., 0.],\n",
       "        [0., 0., 0., ..., 0., 0., 0.]],\n",
       "\n",
       "       [[0., 0., 0., ..., 0., 0., 0.],\n",
       "        [0., 0., 0., ..., 0., 0., 0.],\n",
       "        [0., 0., 0., ..., 0., 0., 0.],\n",
       "        ...,\n",
       "        [0., 0., 0., ..., 0., 0., 0.],\n",
       "        [0., 0., 0., ..., 0., 0., 0.],\n",
       "        [0., 0., 0., ..., 0., 0., 0.]],\n",
       "\n",
       "       [[0., 0., 0., ..., 0., 0., 0.],\n",
       "        [0., 0., 0., ..., 0., 0., 0.],\n",
       "        [0., 0., 0., ..., 0., 0., 0.],\n",
       "        ...,\n",
       "        [0., 0., 0., ..., 0., 0., 0.],\n",
       "        [0., 0., 0., ..., 0., 0., 0.],\n",
       "        [0., 0., 0., ..., 0., 0., 0.]],\n",
       "\n",
       "       ...,\n",
       "\n",
       "       [[0., 0., 0., ..., 0., 0., 0.],\n",
       "        [0., 0., 0., ..., 0., 0., 0.],\n",
       "        [0., 0., 0., ..., 0., 0., 0.],\n",
       "        ...,\n",
       "        [0., 0., 0., ..., 0., 0., 0.],\n",
       "        [0., 0., 0., ..., 0., 0., 0.],\n",
       "        [0., 0., 0., ..., 0., 0., 0.]],\n",
       "\n",
       "       [[0., 0., 0., ..., 0., 0., 0.],\n",
       "        [0., 0., 0., ..., 0., 0., 0.],\n",
       "        [0., 0., 0., ..., 0., 0., 0.],\n",
       "        ...,\n",
       "        [0., 0., 0., ..., 0., 0., 0.],\n",
       "        [0., 0., 0., ..., 0., 0., 0.],\n",
       "        [0., 0., 0., ..., 0., 0., 0.]],\n",
       "\n",
       "       [[0., 0., 0., ..., 0., 0., 0.],\n",
       "        [0., 0., 0., ..., 0., 0., 0.],\n",
       "        [0., 0., 0., ..., 0., 0., 0.],\n",
       "        ...,\n",
       "        [0., 0., 0., ..., 0., 0., 0.],\n",
       "        [0., 0., 0., ..., 0., 0., 0.],\n",
       "        [0., 0., 0., ..., 0., 0., 0.]]], dtype=float32)"
      ]
     },
     "execution_count": 6,
     "metadata": {},
     "output_type": "execute_result"
    }
   ],
   "source": [
    "img_train"
   ]
  },
  {
   "cell_type": "code",
   "execution_count": 7,
   "metadata": {},
   "outputs": [
    {
     "data": {
      "text/plain": [
       "array([9, 0, 0, ..., 3, 0, 5], dtype=uint8)"
      ]
     },
     "execution_count": 7,
     "metadata": {},
     "output_type": "execute_result"
    }
   ],
   "source": [
    "label_train"
   ]
  },
  {
   "cell_type": "code",
   "execution_count": 8,
   "metadata": {},
   "outputs": [
    {
     "data": {
      "text/plain": [
       "(28, 28)"
      ]
     },
     "execution_count": 8,
     "metadata": {},
     "output_type": "execute_result"
    }
   ],
   "source": [
    "img_train[0].shape"
   ]
  },
  {
   "cell_type": "code",
   "execution_count": 9,
   "metadata": {},
   "outputs": [
    {
     "data": {
      "image/png": "[encoded data removed]",
      "text/plain": [
       "<Figure size 640x480 with 1 Axes>"
      ]
     },
     "metadata": {},
     "output_type": "display_data"
    }
   ],
   "source": [
    "import matplotlib.pyplot as plt \n",
    "plt.imshow(img_train[0], cmap='binary')\n",
    "plt.axis('off')\n",
    "plt.show()"
   ]
  },
  {
   "cell_type": "markdown",
   "metadata": {
    "id": "K5YEL2H2Ax3e"
   },
   "source": [
    "## Define the model\n",
    "\n",
    "When you build a model for hypertuning, you also define the hyperparameter search space in addition to the model architecture. The model you set up for hypertuning is called a *hypermodel*.\n",
    "\n",
    "You can define a hypermodel through two approaches:\n",
    "\n",
    "* By using a model builder function\n",
    "* By subclassing the `HyperModel` class of the Keras Tuner API\n",
    "\n",
    "You can also use two pre-defined [HyperModel](https://keras.io/api/keras_tuner/hypermodels/) classes - [HyperXception](https://keras.io/api/keras_tuner/hypermodels/hyper_xception/) and [HyperResNet](https://keras.io/api/keras_tuner/hypermodels/hyper_resnet/) for computer vision applications.\n",
    "\n",
    "In this tutorial, you use a model builder function to define the image classification model. The model builder function returns a compiled model and uses hyperparameters you define inline to hypertune the model."
   ]
  },
  {
   "cell_type": "code",
   "execution_count": 10,
   "metadata": {
    "execution": {
     "iopub.execute_input": "2022-05-19T23:43:18.948337Z",
     "iopub.status.busy": "2022-05-19T23:43:18.947953Z",
     "iopub.status.idle": "2022-05-19T23:43:18.955178Z",
     "shell.execute_reply": "2022-05-19T23:43:18.954193Z"
    },
    "id": "ZQKodC-jtsva"
   },
   "outputs": [],
   "source": [
    "def model_builder(hp):\n",
    "  model = keras.Sequential()\n",
    "    #input layer\n",
    "  model.add(keras.layers.Flatten(input_shape=(28, 28)))\n",
    "\n",
    "  # Tune the number of units in the first Dense layer\n",
    "  # Choose an optimal value between 32-512\n",
    "  hp_units = hp.Int('units', min_value=32, max_value=512, step=32)\n",
    "  model.add(keras.layers.Dense(units=hp_units, activation='relu'))\n",
    "  model.add(keras.layers.Dense(10)) # output layer\n",
    "\n",
    "  # Tune the learning rate for the optimizer\n",
    "  # Choose an optimal value from 0.01, 0.001, or 0.0001\n",
    "  hp_learning_rate = hp.Choice('learning_rate', values=[1e-2, 1e-3, 1e-4])\n",
    "\n",
    "  model.compile(optimizer=keras.optimizers.Adam(learning_rate=hp_learning_rate),\n",
    "                loss=keras.losses.SparseCategoricalCrossentropy(from_logits=True),\n",
    "                metrics=['accuracy'])\n",
    "\n",
    "  return model"
   ]
  },
  {
   "cell_type": "markdown",
   "metadata": {
    "id": "0J1VYw4q3x0b"
   },
   "source": [
    "## Instantiate the tuner and perform hypertuning\n",
    "\n",
    "Instantiate the tuner to perform the hypertuning. The Keras Tuner has four tuners available - `RandomSearch`, `Hyperband`, `BayesianOptimization`, and `Sklearn`. In this tutorial, you use the [Hyperband](https://arxiv.org/pdf/1603.06560.pdf) tuner.\n",
    "\n",
    "To instantiate the Hyperband tuner, you must specify the hypermodel, the `objective` to optimize and the maximum number of epochs to train (`max_epochs`)."
   ]
  },
  {
   "cell_type": "code",
   "execution_count": 11,
   "metadata": {
    "execution": {
     "iopub.execute_input": "2022-05-19T23:43:18.959292Z",
     "iopub.status.busy": "2022-05-19T23:43:18.959006Z",
     "iopub.status.idle": "2022-05-19T23:43:22.033121Z",
     "shell.execute_reply": "2022-05-19T23:43:22.032055Z"
    },
    "id": "oichQFly6Y46"
   },
   "outputs": [],
   "source": [
    "tuner = kt.Hyperband(model_builder,\n",
    "                     objective='val_accuracy',\n",
    "                     max_epochs=10,\n",
    "                     factor=3,\n",
    "                     directory='my_dir',\n",
    "                     project_name='intro_to_kt')"
   ]
  },
  {
   "cell_type": "markdown",
   "metadata": {
    "id": "VaIhhdKf9VtI"
   },
   "source": [
    "The Hyperband tuning algorithm uses adaptive resource allocation and early-stopping to quickly converge on a high-performing model. This is done using a sports championship style bracket. The algorithm trains a large number of models for a few epochs and carries forward only the top-performing half of models to the next round. Hyperband determines the number of models to train in a bracket by computing 1 + log<sub>`factor`</sub>(`max_epochs`) and rounding it up to the nearest integer."
   ]
  },
  {
   "cell_type": "markdown",
   "metadata": {
    "id": "cwhBdXx0Ekj8"
   },
   "source": [
    "Create a callback to stop training early after reaching a certain value for the validation loss."
   ]
  },
  {
   "cell_type": "code",
   "execution_count": 12,
   "metadata": {
    "execution": {
     "iopub.execute_input": "2022-05-19T23:43:22.038137Z",
     "iopub.status.busy": "2022-05-19T23:43:22.037849Z",
     "iopub.status.idle": "2022-05-19T23:43:22.042640Z",
     "shell.execute_reply": "2022-05-19T23:43:22.041681Z"
    },
    "id": "WT9IkS9NEjLc"
   },
   "outputs": [],
   "source": [
    "stop_early = tf.keras.callbacks.EarlyStopping(monitor='val_loss', patience=5)"
   ]
  },
  {
   "cell_type": "markdown",
   "metadata": {
    "id": "UKghEo15Tduy"
   },
   "source": [
    "Run the hyperparameter search. The arguments for the search method are the same as those used for `tf.keras.model.fit` in addition to the callback above."
   ]
  },
  {
   "cell_type": "code",
   "execution_count": 15,
   "metadata": {
    "execution": {
     "iopub.execute_input": "2022-05-19T23:43:22.046741Z",
     "iopub.status.busy": "2022-05-19T23:43:22.046142Z",
     "iopub.status.idle": "2022-05-19T23:52:01.508476Z",
     "shell.execute_reply": "2022-05-19T23:52:01.507512Z"
    },
    "id": "dSBQcTHF9cKt"
   },
   "outputs": [
    {
     "name": "stdout",
     "output_type": "stream",
     "text": [
      "Trial 30 Complete [00h 01m 12s]\n",
      "val_accuracy: 0.8693333268165588\n",
      "\n",
      "Best val_accuracy So Far: 0.8865000009536743\n",
      "Total elapsed time: 00h 28m 43s\n",
      "INFO:tensorflow:Oracle triggered exit\n",
      "\n",
      "The hyperparameter search is complete. The optimal number of units in the first densely-connected\n",
      "layer is 416 and the optimal learning rate for the optimizer\n",
      "is 0.001.\n",
      "\n"
     ]
    }
   ],
   "source": [
    "tuner.search(img_train, label_train, epochs=50, validation_split=0.2, callbacks=[stop_early])\n",
    "\n",
    "# Get the optimal hyperparameters\n",
    "best_hps=tuner.get_best_hyperparameters(num_trials=1)[0]\n",
    "\n",
    "print(f\"\"\"\n",
    "The hyperparameter search is complete. The optimal number of units in the first densely-connected\n",
    "layer is {best_hps.get('units')} and the optimal learning rate for the optimizer\n",
    "is {best_hps.get('learning_rate')}.\n",
    "\"\"\")"
   ]
  },
  {
   "cell_type": "markdown",
   "metadata": {
    "id": "Lak_ylf88xBv"
   },
   "source": [
    "## Train the model\n",
    "\n",
    "Find the optimal number of epochs to train the model with the hyperparameters obtained from the search."
   ]
  },
  {
   "cell_type": "code",
   "execution_count": 16,
   "metadata": {
    "execution": {
     "iopub.execute_input": "2022-05-19T23:52:01.513243Z",
     "iopub.status.busy": "2022-05-19T23:52:01.512451Z",
     "iopub.status.idle": "2022-05-19T23:55:16.289138Z",
     "shell.execute_reply": "2022-05-19T23:55:16.288100Z"
    },
    "id": "McO82AXOuxXh"
   },
   "outputs": [
    {
     "name": "stdout",
     "output_type": "stream",
     "text": [
      "Epoch 1/50\n",
      "1500/1500 [==============================] - 13s 8ms/step - loss: 0.4893 - accuracy: 0.8257 - val_loss: 0.3932 - val_accuracy: 0.8609\n",
      "Epoch 2/50\n",
      "1500/1500 [==============================] - 13s 8ms/step - loss: 0.3686 - accuracy: 0.8654 - val_loss: 0.3609 - val_accuracy: 0.8703\n",
      "Epoch 3/50\n",
      "1500/1500 [==============================] - 12s 8ms/step - loss: 0.3344 - accuracy: 0.8774 - val_loss: 0.3618 - val_accuracy: 0.8704\n",
      "Epoch 4/50\n",
      "1500/1500 [==============================] - 12s 8ms/step - loss: 0.3077 - accuracy: 0.8866 - val_loss: 0.3291 - val_accuracy: 0.8848\n",
      "Epoch 5/50\n",
      "1500/1500 [==============================] - 12s 8ms/step - loss: 0.2869 - accuracy: 0.8922 - val_loss: 0.3490 - val_accuracy: 0.8740\n",
      "Epoch 6/50\n",
      "1500/1500 [==============================] - 12s 8ms/step - loss: 0.2707 - accuracy: 0.8979 - val_loss: 0.3478 - val_accuracy: 0.8743\n",
      "Epoch 7/50\n",
      "1500/1500 [==============================] - 12s 8ms/step - loss: 0.2551 - accuracy: 0.9029 - val_loss: 0.3087 - val_accuracy: 0.8895\n",
      "Epoch 8/50\n",
      "1500/1500 [==============================] - 12s 8ms/step - loss: 0.2459 - accuracy: 0.9083 - val_loss: 0.3062 - val_accuracy: 0.8913\n",
      "Epoch 9/50\n",
      "1500/1500 [==============================] - 12s 8ms/step - loss: 0.2373 - accuracy: 0.9106 - val_loss: 0.3293 - val_accuracy: 0.8838\n",
      "Epoch 10/50\n",
      "1500/1500 [==============================] - 12s 8ms/step - loss: 0.2238 - accuracy: 0.9154 - val_loss: 0.3169 - val_accuracy: 0.8903\n",
      "Epoch 11/50\n",
      "1500/1500 [==============================] - 12s 8ms/step - loss: 0.2166 - accuracy: 0.9191 - val_loss: 0.3124 - val_accuracy: 0.8906\n",
      "Epoch 12/50\n",
      "1500/1500 [==============================] - 12s 8ms/step - loss: 0.2082 - accuracy: 0.9225 - val_loss: 0.3369 - val_accuracy: 0.8857\n",
      "Epoch 13/50\n",
      "1500/1500 [==============================] - 12s 8ms/step - loss: 0.1991 - accuracy: 0.9250 - val_loss: 0.3227 - val_accuracy: 0.8887\n",
      "Epoch 14/50\n",
      "1500/1500 [==============================] - 12s 8ms/step - loss: 0.1932 - accuracy: 0.9283 - val_loss: 0.3516 - val_accuracy: 0.8817\n",
      "Epoch 15/50\n",
      "1500/1500 [==============================] - 12s 8ms/step - loss: 0.1834 - accuracy: 0.9318 - val_loss: 0.3520 - val_accuracy: 0.8857\n",
      "Epoch 16/50\n",
      "1500/1500 [==============================] - 12s 8ms/step - loss: 0.1798 - accuracy: 0.9325 - val_loss: 0.3300 - val_accuracy: 0.8923\n",
      "Epoch 17/50\n",
      "1500/1500 [==============================] - 12s 8ms/step - loss: 0.1715 - accuracy: 0.9355 - val_loss: 0.3304 - val_accuracy: 0.8952\n",
      "Epoch 18/50\n",
      "1500/1500 [==============================] - 12s 8ms/step - loss: 0.1657 - accuracy: 0.9375 - val_loss: 0.3355 - val_accuracy: 0.8940\n",
      "Epoch 19/50\n",
      "1500/1500 [==============================] - 12s 8ms/step - loss: 0.1597 - accuracy: 0.9391 - val_loss: 0.3572 - val_accuracy: 0.8914\n",
      "Epoch 20/50\n",
      "1500/1500 [==============================] - 12s 8ms/step - loss: 0.1562 - accuracy: 0.9414 - val_loss: 0.3751 - val_accuracy: 0.8837\n",
      "Epoch 21/50\n",
      "1500/1500 [==============================] - 12s 8ms/step - loss: 0.1508 - accuracy: 0.9437 - val_loss: 0.3457 - val_accuracy: 0.8926\n",
      "Epoch 22/50\n",
      "1500/1500 [==============================] - 12s 8ms/step - loss: 0.1451 - accuracy: 0.9448 - val_loss: 0.3471 - val_accuracy: 0.8963\n",
      "Epoch 23/50\n",
      "1500/1500 [==============================] - 12s 8ms/step - loss: 0.1412 - accuracy: 0.9475 - val_loss: 0.3676 - val_accuracy: 0.8944\n",
      "Epoch 24/50\n",
      "1500/1500 [==============================] - 12s 8ms/step - loss: 0.1387 - accuracy: 0.9485 - val_loss: 0.3863 - val_accuracy: 0.8878\n",
      "Epoch 25/50\n",
      "1500/1500 [==============================] - 12s 8ms/step - loss: 0.1343 - accuracy: 0.9503 - val_loss: 0.3929 - val_accuracy: 0.8920\n",
      "Epoch 26/50\n",
      "1500/1500 [==============================] - 12s 8ms/step - loss: 0.1309 - accuracy: 0.9506 - val_loss: 0.3721 - val_accuracy: 0.8885\n",
      "Epoch 27/50\n",
      "1500/1500 [==============================] - 12s 8ms/step - loss: 0.1283 - accuracy: 0.9525 - val_loss: 0.4121 - val_accuracy: 0.8888\n",
      "Epoch 28/50\n",
      "1500/1500 [==============================] - 13s 8ms/step - loss: 0.1221 - accuracy: 0.9538 - val_loss: 0.3847 - val_accuracy: 0.8955\n",
      "Epoch 29/50\n",
      "1500/1500 [==============================] - 12s 8ms/step - loss: 0.1199 - accuracy: 0.9539 - val_loss: 0.4098 - val_accuracy: 0.8870\n",
      "Epoch 30/50\n",
      "1500/1500 [==============================] - 12s 8ms/step - loss: 0.1173 - accuracy: 0.9558 - val_loss: 0.3935 - val_accuracy: 0.8945\n",
      "Epoch 31/50\n",
      "1500/1500 [==============================] - 12s 8ms/step - loss: 0.1160 - accuracy: 0.9562 - val_loss: 0.4130 - val_accuracy: 0.8900\n",
      "Epoch 32/50\n",
      "1500/1500 [==============================] - 12s 8ms/step - loss: 0.1135 - accuracy: 0.9569 - val_loss: 0.4051 - val_accuracy: 0.8923\n",
      "Epoch 33/50\n",
      "1500/1500 [==============================] - 12s 8ms/step - loss: 0.1064 - accuracy: 0.9605 - val_loss: 0.4341 - val_accuracy: 0.8892\n",
      "Epoch 34/50\n",
      "1500/1500 [==============================] - 12s 8ms/step - loss: 0.1053 - accuracy: 0.9605 - val_loss: 0.4349 - val_accuracy: 0.8923\n",
      "Epoch 35/50\n",
      "1500/1500 [==============================] - 12s 8ms/step - loss: 0.1042 - accuracy: 0.9615 - val_loss: 0.4410 - val_accuracy: 0.8945\n",
      "Epoch 36/50\n",
      "1500/1500 [==============================] - 12s 8ms/step - loss: 0.1006 - accuracy: 0.9622 - val_loss: 0.4830 - val_accuracy: 0.8861\n",
      "Epoch 37/50\n",
      "1500/1500 [==============================] - 12s 8ms/step - loss: 0.1007 - accuracy: 0.9615 - val_loss: 0.4407 - val_accuracy: 0.8928\n",
      "Epoch 38/50\n",
      "1500/1500 [==============================] - 12s 8ms/step - loss: 0.0956 - accuracy: 0.9637 - val_loss: 0.4555 - val_accuracy: 0.8949\n",
      "Epoch 39/50\n",
      "1500/1500 [==============================] - 12s 8ms/step - loss: 0.0948 - accuracy: 0.9646 - val_loss: 0.4695 - val_accuracy: 0.8936\n",
      "Epoch 40/50\n",
      "1500/1500 [==============================] - 12s 8ms/step - loss: 0.0914 - accuracy: 0.9654 - val_loss: 0.4886 - val_accuracy: 0.8910\n",
      "Epoch 41/50\n",
      "1500/1500 [==============================] - 12s 8ms/step - loss: 0.0897 - accuracy: 0.9660 - val_loss: 0.4979 - val_accuracy: 0.8915\n",
      "Epoch 42/50\n",
      "1500/1500 [==============================] - 12s 8ms/step - loss: 0.0865 - accuracy: 0.9661 - val_loss: 0.4694 - val_accuracy: 0.8964\n",
      "Epoch 43/50\n",
      "1500/1500 [==============================] - 12s 8ms/step - loss: 0.0847 - accuracy: 0.9676 - val_loss: 0.4851 - val_accuracy: 0.8947\n",
      "Epoch 44/50\n",
      "1500/1500 [==============================] - 12s 8ms/step - loss: 0.0828 - accuracy: 0.9694 - val_loss: 0.5090 - val_accuracy: 0.8872\n",
      "Epoch 45/50\n",
      "1500/1500 [==============================] - 12s 8ms/step - loss: 0.0845 - accuracy: 0.9686 - val_loss: 0.4923 - val_accuracy: 0.8923\n",
      "Epoch 46/50\n",
      "1500/1500 [==============================] - 12s 8ms/step - loss: 0.0803 - accuracy: 0.9703 - val_loss: 0.5050 - val_accuracy: 0.8932\n",
      "Epoch 47/50\n",
      "1500/1500 [==============================] - 12s 8ms/step - loss: 0.0776 - accuracy: 0.9705 - val_loss: 0.5258 - val_accuracy: 0.8911\n",
      "Epoch 48/50\n",
      "1500/1500 [==============================] - 12s 8ms/step - loss: 0.0784 - accuracy: 0.9707 - val_loss: 0.4971 - val_accuracy: 0.8968\n",
      "Epoch 49/50\n",
      "1500/1500 [==============================] - 12s 8ms/step - loss: 0.0781 - accuracy: 0.9714 - val_loss: 0.5375 - val_accuracy: 0.8932\n",
      "Epoch 50/50\n",
      "1500/1500 [==============================] - 12s 8ms/step - loss: 0.0715 - accuracy: 0.9725 - val_loss: 0.5802 - val_accuracy: 0.8930\n",
      "Best epoch: 48\n"
     ]
    }
   ],
   "source": [
    "# Build the model with the optimal hyperparameters and train it on the data for 50 epochs\n",
    "model = tuner.hypermodel.build(best_hps)\n",
    "history = model.fit(img_train, label_train, epochs=50, validation_split=0.2)\n",
    "\n",
    "val_acc_per_epoch = history.history['val_accuracy']\n",
    "best_epoch = val_acc_per_epoch.index(max(val_acc_per_epoch)) + 1\n",
    "print('Best epoch: %d' % (best_epoch,))"
   ]
  },
  {
   "cell_type": "markdown",
   "metadata": {
    "id": "uOTSirSTI3Gp"
   },
   "source": [
    "Re-instantiate the hypermodel and train it with the optimal number of epochs from above."
   ]
  },
  {
   "cell_type": "code",
   "execution_count": null,
   "metadata": {
    "execution": {
     "iopub.execute_input": "2022-05-19T23:55:16.293302Z",
     "iopub.status.busy": "2022-05-19T23:55:16.293023Z",
     "iopub.status.idle": "2022-05-19T23:57:28.687990Z",
     "shell.execute_reply": "2022-05-19T23:57:28.686996Z"
    },
    "id": "NoiPUEHmMhCe"
   },
   "outputs": [
    {
     "name": "stdout",
     "output_type": "stream",
     "text": [
      "Epoch 1/48\n",
      "1500/1500 [==============================] - 13s 8ms/step - loss: 0.4978 - accuracy: 0.8223 - val_loss: 0.4405 - val_accuracy: 0.8414\n",
      "Epoch 2/48\n",
      "1500/1500 [==============================] - 13s 8ms/step - loss: 0.3715 - accuracy: 0.8641 - val_loss: 0.3493 - val_accuracy: 0.8747\n",
      "Epoch 3/48\n",
      "1500/1500 [==============================] - 12s 8ms/step - loss: 0.3298 - accuracy: 0.8791 - val_loss: 0.3297 - val_accuracy: 0.8813\n",
      "Epoch 4/48\n",
      "1500/1500 [==============================] - 12s 8ms/step - loss: 0.3052 - accuracy: 0.8868 - val_loss: 0.3428 - val_accuracy: 0.8758\n",
      "Epoch 5/48\n",
      "1500/1500 [==============================] - 13s 8ms/step - loss: 0.2839 - accuracy: 0.8934 - val_loss: 0.3495 - val_accuracy: 0.8728\n",
      "Epoch 6/48\n",
      "1500/1500 [==============================] - 13s 8ms/step - loss: 0.2692 - accuracy: 0.9001 - val_loss: 0.3223 - val_accuracy: 0.8848\n",
      "Epoch 7/48\n",
      "1500/1500 [==============================] - 13s 8ms/step - loss: 0.2553 - accuracy: 0.9053 - val_loss: 0.3241 - val_accuracy: 0.8827\n",
      "Epoch 8/48\n",
      "1500/1500 [==============================] - 12s 8ms/step - loss: 0.2454 - accuracy: 0.9084 - val_loss: 0.3109 - val_accuracy: 0.8857\n",
      "Epoch 9/48\n",
      "1500/1500 [==============================] - 13s 8ms/step - loss: 0.2343 - accuracy: 0.9121 - val_loss: 0.3098 - val_accuracy: 0.8895\n",
      "Epoch 10/48\n",
      "1500/1500 [==============================] - 12s 8ms/step - loss: 0.2261 - accuracy: 0.9159 - val_loss: 0.3549 - val_accuracy: 0.8816\n",
      "Epoch 11/48\n",
      "1500/1500 [==============================] - 12s 8ms/step - loss: 0.2172 - accuracy: 0.9190 - val_loss: 0.3096 - val_accuracy: 0.8911\n",
      "Epoch 12/48\n",
      "1500/1500 [==============================] - 12s 8ms/step - loss: 0.2087 - accuracy: 0.9216 - val_loss: 0.3402 - val_accuracy: 0.8885\n",
      "Epoch 13/48\n",
      "1500/1500 [==============================] - 12s 8ms/step - loss: 0.2009 - accuracy: 0.9244 - val_loss: 0.3220 - val_accuracy: 0.8920\n",
      "Epoch 14/48\n",
      "1500/1500 [==============================] - 12s 8ms/step - loss: 0.1943 - accuracy: 0.9270 - val_loss: 0.3395 - val_accuracy: 0.8874\n",
      "Epoch 15/48\n",
      "1500/1500 [==============================] - 12s 8ms/step - loss: 0.1860 - accuracy: 0.9296 - val_loss: 0.3400 - val_accuracy: 0.8907\n",
      "Epoch 16/48\n",
      "1500/1500 [==============================] - 12s 8ms/step - loss: 0.1800 - accuracy: 0.9334 - val_loss: 0.3272 - val_accuracy: 0.8934\n",
      "Epoch 17/48\n",
      "1500/1500 [==============================] - 12s 8ms/step - loss: 0.1725 - accuracy: 0.9339 - val_loss: 0.3452 - val_accuracy: 0.8883\n",
      "Epoch 18/48\n",
      "1500/1500 [==============================] - 12s 8ms/step - loss: 0.1688 - accuracy: 0.9368 - val_loss: 0.3274 - val_accuracy: 0.8967\n",
      "Epoch 19/48\n",
      "1500/1500 [==============================] - 13s 8ms/step - loss: 0.1619 - accuracy: 0.9399 - val_loss: 0.3466 - val_accuracy: 0.8931\n",
      "Epoch 20/48\n",
      "1500/1500 [==============================] - 12s 8ms/step - loss: 0.1553 - accuracy: 0.9413 - val_loss: 0.3676 - val_accuracy: 0.8898\n",
      "Epoch 21/48\n",
      "1500/1500 [==============================] - 12s 8ms/step - loss: 0.1512 - accuracy: 0.9425 - val_loss: 0.4101 - val_accuracy: 0.8812\n",
      "Epoch 22/48\n",
      "1500/1500 [==============================] - 13s 8ms/step - loss: 0.1469 - accuracy: 0.9441 - val_loss: 0.3568 - val_accuracy: 0.8915\n",
      "Epoch 23/48\n",
      "1500/1500 [==============================] - 12s 8ms/step - loss: 0.1422 - accuracy: 0.9465 - val_loss: 0.3552 - val_accuracy: 0.8914\n",
      "Epoch 24/48\n",
      "1500/1500 [==============================] - 12s 8ms/step - loss: 0.1351 - accuracy: 0.9486 - val_loss: 0.3775 - val_accuracy: 0.8881\n",
      "Epoch 25/48\n",
      "1500/1500 [==============================] - 12s 8ms/step - loss: 0.1342 - accuracy: 0.9496 - val_loss: 0.3691 - val_accuracy: 0.8936\n",
      "Epoch 26/48\n",
      "1500/1500 [==============================] - 13s 8ms/step - loss: 0.1294 - accuracy: 0.9511 - val_loss: 0.3949 - val_accuracy: 0.8928\n",
      "Epoch 27/48\n",
      "1500/1500 [==============================] - 12s 8ms/step - loss: 0.1302 - accuracy: 0.9511 - val_loss: 0.3837 - val_accuracy: 0.8923\n",
      "Epoch 28/48\n",
      "1500/1500 [==============================] - 12s 8ms/step - loss: 0.1226 - accuracy: 0.9539 - val_loss: 0.4011 - val_accuracy: 0.8918\n",
      "Epoch 29/48\n",
      "1500/1500 [==============================] - 12s 8ms/step - loss: 0.1205 - accuracy: 0.9546 - val_loss: 0.3803 - val_accuracy: 0.8953\n",
      "Epoch 30/48\n",
      "1500/1500 [==============================] - 12s 8ms/step - loss: 0.1175 - accuracy: 0.9555 - val_loss: 0.4157 - val_accuracy: 0.8885\n",
      "Epoch 31/48\n",
      "1500/1500 [==============================] - 12s 8ms/step - loss: 0.1140 - accuracy: 0.9577 - val_loss: 0.4102 - val_accuracy: 0.8904\n",
      "Epoch 32/48\n",
      "1500/1500 [==============================] - 12s 8ms/step - loss: 0.1091 - accuracy: 0.9586 - val_loss: 0.4333 - val_accuracy: 0.8916\n",
      "Epoch 33/48\n",
      "1500/1500 [==============================] - 12s 8ms/step - loss: 0.1097 - accuracy: 0.9585 - val_loss: 0.4366 - val_accuracy: 0.8882\n",
      "Epoch 34/48\n",
      "1500/1500 [==============================] - 12s 8ms/step - loss: 0.1044 - accuracy: 0.9618 - val_loss: 0.4381 - val_accuracy: 0.8926\n",
      "Epoch 35/48\n",
      "1500/1500 [==============================] - 13s 8ms/step - loss: 0.1023 - accuracy: 0.9615 - val_loss: 0.4264 - val_accuracy: 0.8983\n",
      "Epoch 36/48\n",
      "1500/1500 [==============================] - 12s 8ms/step - loss: 0.0985 - accuracy: 0.9629 - val_loss: 0.4203 - val_accuracy: 0.8953\n",
      "Epoch 37/48\n",
      "1500/1500 [==============================] - 12s 8ms/step - loss: 0.0983 - accuracy: 0.9629 - val_loss: 0.4333 - val_accuracy: 0.8951\n",
      "Epoch 38/48\n",
      "1500/1500 [==============================] - 12s 8ms/step - loss: 0.0984 - accuracy: 0.9626 - val_loss: 0.4533 - val_accuracy: 0.8949\n",
      "Epoch 39/48\n",
      "1500/1500 [==============================] - 12s 8ms/step - loss: 0.0941 - accuracy: 0.9639 - val_loss: 0.4488 - val_accuracy: 0.8907\n",
      "Epoch 40/48\n",
      "1500/1500 [==============================] - 12s 8ms/step - loss: 0.0882 - accuracy: 0.9671 - val_loss: 0.4632 - val_accuracy: 0.8919\n",
      "Epoch 41/48\n",
      "1500/1500 [==============================] - 12s 8ms/step - loss: 0.0927 - accuracy: 0.9647 - val_loss: 0.4769 - val_accuracy: 0.8907\n",
      "Epoch 42/48\n",
      "1500/1500 [==============================] - 12s 8ms/step - loss: 0.0873 - accuracy: 0.9675 - val_loss: 0.4903 - val_accuracy: 0.8936\n",
      "Epoch 43/48\n",
      "1500/1500 [==============================] - 12s 8ms/step - loss: 0.0830 - accuracy: 0.9688 - val_loss: 0.4756 - val_accuracy: 0.8935\n",
      "Epoch 44/48\n",
      "  85/1500 [>.............................] - ETA: 10s - loss: 0.0883 - accuracy: 0.9636"
     ]
    }
   ],
   "source": [
    "hypermodel = tuner.hypermodel.build(best_hps)\n",
    "\n",
    "# Retrain the model\n",
    "hypermodel.fit(img_train, label_train, epochs=best_epoch, validation_split=0.2)"
   ]
  },
  {
   "cell_type": "markdown",
   "metadata": {
    "id": "MqU5ZVAaag2v"
   },
   "source": [
    "To finish this tutorial, evaluate the hypermodel on the test data."
   ]
  },
  {
   "cell_type": "code",
   "execution_count": null,
   "metadata": {
    "execution": {
     "iopub.execute_input": "2022-05-19T23:57:28.692246Z",
     "iopub.status.busy": "2022-05-19T23:57:28.691953Z",
     "iopub.status.idle": "2022-05-19T23:57:29.633125Z",
     "shell.execute_reply": "2022-05-19T23:57:29.632178Z"
    },
    "id": "9E0BTp9Ealjb"
   },
   "outputs": [],
   "source": [
    "eval_result = hypermodel.evaluate(img_test, label_test)\n",
    "print(\"[test loss, test accuracy]:\", eval_result)"
   ]
  },
  {
   "cell_type": "markdown",
   "metadata": {
    "id": "EQRpPHZsz-eC"
   },
   "source": [
    "The `my_dir/intro_to_kt` directory contains detailed logs and checkpoints for every trial (model configuration) run during the hyperparameter search. If you re-run the hyperparameter search, the Keras Tuner uses the existing state from these logs to resume the search. To disable this behavior, pass an additional `overwrite=True` argument while instantiating the tuner."
   ]
  },
  {
   "cell_type": "markdown",
   "metadata": {
    "id": "sKwLOzKpFGAj"
   },
   "source": [
    "## Summary\n",
    "\n",
    "In this tutorial, you learned how to use the Keras Tuner to tune hyperparameters for a model. To learn more about the Keras Tuner, check out these additional resources:\n",
    "\n",
    "* [Keras Tuner on the TensorFlow blog](https://blog.tensorflow.org/2020/01/hyperparameter-tuning-with-keras-tuner.html)\n",
    "* [Keras Tuner website](https://keras-team.github.io/keras-tuner/)\n",
    "\n",
    "Also check out the [HParams Dashboard](https://www.tensorflow.org/tensorboard/hyperparameter_tuning_with_hparams) in TensorBoard to interactively tune your model hyperparameters."
   ]
  }
 ],
 "metadata": {
  "accelerator": "GPU",
  "colab": {
   "collapsed_sections": [
    "Tce3stUlHN0L"
   ],
   "name": "keras_tuner.ipynb",
   "toc_visible": true
  },
  "kernelspec": {
   "display_name": "Python 3 (ipykernel)",
   "language": "python",
   "name": "python3"
  },
  "language_info": {
   "codemirror_mode": {
    "name": "ipython",
    "version": 3
   },
   "file_extension": ".py",
   "mimetype": "text/x-python",
   "name": "python",
   "nbconvert_exporter": "python",
   "pygments_lexer": "ipython3",
   "version": "3.7.13"
  }
 },
 "nbformat": 4,
 "nbformat_minor": 1
}
